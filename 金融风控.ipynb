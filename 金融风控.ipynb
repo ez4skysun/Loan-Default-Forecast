{
 "cells": [
  {
   "cell_type": "code",
   "execution_count": 1,
   "id": "b240d4a6",
   "metadata": {
    "ExecuteTime": {
     "end_time": "2022-01-03T08:22:08.937446Z",
     "start_time": "2022-01-03T08:22:06.637376Z"
    }
   },
   "outputs": [],
   "source": [
    "import numpy as np\n",
    "import pandas as pd\n",
    "from matplotlib import pyplot as plt\n",
    "import seaborn as sns\n",
    "import datetime"
   ]
  },
  {
   "cell_type": "markdown",
   "id": "bf373e0b",
   "metadata": {},
   "source": [
    "# 数据分析"
   ]
  },
  {
   "cell_type": "markdown",
   "id": "fc9c3910",
   "metadata": {
    "ExecuteTime": {
     "end_time": "2021-12-16T14:55:04.802858Z",
     "start_time": "2021-12-16T14:55:04.787898Z"
    }
   },
   "source": [
    "https://tianchi.aliyun.com/competition/entrance/531830/information"
   ]
  },
  {
   "cell_type": "code",
   "execution_count": 2,
   "id": "2e108eec",
   "metadata": {
    "ExecuteTime": {
     "end_time": "2022-01-03T08:22:13.895458Z",
     "start_time": "2022-01-03T08:22:11.246355Z"
    }
   },
   "outputs": [],
   "source": [
    "data_train = pd.read_csv('./train.csv')\n",
    "data_test_a = pd.read_csv('./testA.csv')\n",
    "data_train_sample = pd.read_csv(\"./train.csv\",nrows=5)"
   ]
  },
  {
   "cell_type": "code",
   "execution_count": 3,
   "id": "aa104e97",
   "metadata": {
    "ExecuteTime": {
     "end_time": "2022-01-03T08:22:14.249554Z",
     "start_time": "2022-01-03T08:22:14.082434Z"
    }
   },
   "outputs": [
    {
     "name": "stdout",
     "output_type": "stream",
     "text": [
      "<class 'pandas.core.frame.DataFrame'>\n",
      "RangeIndex: 800000 entries, 0 to 799999\n",
      "Data columns (total 47 columns):\n",
      " #   Column              Non-Null Count   Dtype  \n",
      "---  ------              --------------   -----  \n",
      " 0   id                  800000 non-null  int64  \n",
      " 1   loanAmnt            800000 non-null  float64\n",
      " 2   term                800000 non-null  int64  \n",
      " 3   interestRate        800000 non-null  float64\n",
      " 4   installment         800000 non-null  float64\n",
      " 5   grade               800000 non-null  object \n",
      " 6   subGrade            800000 non-null  object \n",
      " 7   employmentTitle     799999 non-null  float64\n",
      " 8   employmentLength    753201 non-null  object \n",
      " 9   homeOwnership       800000 non-null  int64  \n",
      " 10  annualIncome        800000 non-null  float64\n",
      " 11  verificationStatus  800000 non-null  int64  \n",
      " 12  issueDate           800000 non-null  object \n",
      " 13  isDefault           800000 non-null  int64  \n",
      " 14  purpose             800000 non-null  int64  \n",
      " 15  postCode            799999 non-null  float64\n",
      " 16  regionCode          800000 non-null  int64  \n",
      " 17  dti                 799761 non-null  float64\n",
      " 18  delinquency_2years  800000 non-null  float64\n",
      " 19  ficoRangeLow        800000 non-null  float64\n",
      " 20  ficoRangeHigh       800000 non-null  float64\n",
      " 21  openAcc             800000 non-null  float64\n",
      " 22  pubRec              800000 non-null  float64\n",
      " 23  pubRecBankruptcies  799595 non-null  float64\n",
      " 24  revolBal            800000 non-null  float64\n",
      " 25  revolUtil           799469 non-null  float64\n",
      " 26  totalAcc            800000 non-null  float64\n",
      " 27  initialListStatus   800000 non-null  int64  \n",
      " 28  applicationType     800000 non-null  int64  \n",
      " 29  earliesCreditLine   800000 non-null  object \n",
      " 30  title               799999 non-null  float64\n",
      " 31  policyCode          800000 non-null  float64\n",
      " 32  n0                  759730 non-null  float64\n",
      " 33  n1                  759730 non-null  float64\n",
      " 34  n2                  759730 non-null  float64\n",
      " 35  n3                  759730 non-null  float64\n",
      " 36  n4                  766761 non-null  float64\n",
      " 37  n5                  759730 non-null  float64\n",
      " 38  n6                  759730 non-null  float64\n",
      " 39  n7                  759730 non-null  float64\n",
      " 40  n8                  759729 non-null  float64\n",
      " 41  n9                  759730 non-null  float64\n",
      " 42  n10                 766761 non-null  float64\n",
      " 43  n11                 730248 non-null  float64\n",
      " 44  n12                 759730 non-null  float64\n",
      " 45  n13                 759730 non-null  float64\n",
      " 46  n14                 759730 non-null  float64\n",
      "dtypes: float64(33), int64(9), object(5)\n",
      "memory usage: 286.9+ MB\n"
     ]
    }
   ],
   "source": [
    "data_train.info()"
   ]
  },
  {
   "cell_type": "markdown",
   "id": "ecc483f4",
   "metadata": {},
   "source": [
    "id 为贷款清单分配的唯一信用证标识  \n",
    "loanAmnt 贷款金额  \n",
    "term 贷款期限（year）  \n",
    "interestRate 贷款利率  \n",
    "installment 分期付款金额  \n",
    "grade 贷款等级  \n",
    "subGrade 贷款等级之子级  \n",
    "employmentTitle 就业职称  \n",
    "employmentLength 就业年限（年）  \n",
    "homeOwnership 借款人在登记时提供的房屋所有权状况  \n",
    "annualIncome 年收入  \n",
    "verificationStatus 验证状态  \n",
    "issueDate 贷款发放的月份  \n",
    "purpose 借款人在贷款申请时的贷款用途类别  \n",
    "postCode 借款人在贷款申请中提供的邮政编码的前3位数字  \n",
    "regionCode 地区编码  \n",
    "dti 债务收入比  \n",
    "delinquency_2years 借款人过去2年信用档案中逾期30天以上的违约事件数  \n",
    "ficoRangeLow 借款人在贷款发放时的fico所属的下限范围  \n",
    "ficoRangeHigh 借款人在贷款发放时的fico所属的上限范围  \n",
    "openAcc 借款人信用档案中未结信用额度的数量  \n",
    "pubRec 贬损公共记录的数量  \n",
    "pubRecBankruptcies 公开记录清除的数量  \n",
    "revolBal 信贷周转余额合计  \n",
    "revolUtil 循环额度利用率，或借款人使用的相对于所有可用循环信贷的信贷金额  \n",
    "totalAcc 借款人信用档案中当前的信用额度总数  \n",
    "initialListStatus 贷款的初始列表状态  \n",
    "applicationType 表明贷款是个人申请还是与两个共同借款人的联合申请  \n",
    "earliesCreditLine 借款人最早报告的信用额度开立的月份  \n",
    "title 借款人提供的贷款名称  \n",
    "policyCode 公开可用的策略_代码=1新产品不公开可用的策略_代码=2  \n",
    "n系列匿名特征  \n",
    "匿名特征n0-n14，为一些贷款人行为计数特征的处理"
   ]
  },
  {
   "cell_type": "code",
   "execution_count": 4,
   "id": "325e3722",
   "metadata": {
    "ExecuteTime": {
     "end_time": "2022-01-03T08:22:29.474267Z",
     "start_time": "2022-01-03T08:22:28.670310Z"
    }
   },
   "outputs": [
    {
     "data": {
      "text/html": [
       "<div>\n",
       "<style scoped>\n",
       "    .dataframe tbody tr th:only-of-type {\n",
       "        vertical-align: middle;\n",
       "    }\n",
       "\n",
       "    .dataframe tbody tr th {\n",
       "        vertical-align: top;\n",
       "    }\n",
       "\n",
       "    .dataframe thead th {\n",
       "        text-align: right;\n",
       "    }\n",
       "</style>\n",
       "<table border=\"1\" class=\"dataframe\">\n",
       "  <thead>\n",
       "    <tr style=\"text-align: right;\">\n",
       "      <th></th>\n",
       "      <th>id</th>\n",
       "      <th>loanAmnt</th>\n",
       "      <th>term</th>\n",
       "      <th>interestRate</th>\n",
       "      <th>installment</th>\n",
       "      <th>employmentTitle</th>\n",
       "      <th>homeOwnership</th>\n",
       "      <th>annualIncome</th>\n",
       "      <th>verificationStatus</th>\n",
       "      <th>isDefault</th>\n",
       "      <th>...</th>\n",
       "      <th>n5</th>\n",
       "      <th>n6</th>\n",
       "      <th>n7</th>\n",
       "      <th>n8</th>\n",
       "      <th>n9</th>\n",
       "      <th>n10</th>\n",
       "      <th>n11</th>\n",
       "      <th>n12</th>\n",
       "      <th>n13</th>\n",
       "      <th>n14</th>\n",
       "    </tr>\n",
       "  </thead>\n",
       "  <tbody>\n",
       "    <tr>\n",
       "      <th>count</th>\n",
       "      <td>800000.000000</td>\n",
       "      <td>800000.000000</td>\n",
       "      <td>800000.000000</td>\n",
       "      <td>800000.000000</td>\n",
       "      <td>800000.000000</td>\n",
       "      <td>799999.000000</td>\n",
       "      <td>800000.000000</td>\n",
       "      <td>8.000000e+05</td>\n",
       "      <td>800000.000000</td>\n",
       "      <td>800000.000000</td>\n",
       "      <td>...</td>\n",
       "      <td>759730.000000</td>\n",
       "      <td>759730.000000</td>\n",
       "      <td>759730.000000</td>\n",
       "      <td>759729.000000</td>\n",
       "      <td>759730.000000</td>\n",
       "      <td>766761.000000</td>\n",
       "      <td>730248.000000</td>\n",
       "      <td>759730.000000</td>\n",
       "      <td>759730.000000</td>\n",
       "      <td>759730.000000</td>\n",
       "    </tr>\n",
       "    <tr>\n",
       "      <th>mean</th>\n",
       "      <td>399999.500000</td>\n",
       "      <td>14416.818875</td>\n",
       "      <td>3.482745</td>\n",
       "      <td>13.238391</td>\n",
       "      <td>437.947723</td>\n",
       "      <td>72005.351714</td>\n",
       "      <td>0.614213</td>\n",
       "      <td>7.613391e+04</td>\n",
       "      <td>1.009683</td>\n",
       "      <td>0.199513</td>\n",
       "      <td>...</td>\n",
       "      <td>8.107937</td>\n",
       "      <td>8.575994</td>\n",
       "      <td>8.282953</td>\n",
       "      <td>14.622488</td>\n",
       "      <td>5.592345</td>\n",
       "      <td>11.643896</td>\n",
       "      <td>0.000815</td>\n",
       "      <td>0.003384</td>\n",
       "      <td>0.089366</td>\n",
       "      <td>2.178606</td>\n",
       "    </tr>\n",
       "    <tr>\n",
       "      <th>std</th>\n",
       "      <td>230940.252015</td>\n",
       "      <td>8716.086178</td>\n",
       "      <td>0.855832</td>\n",
       "      <td>4.765757</td>\n",
       "      <td>261.460393</td>\n",
       "      <td>106585.640204</td>\n",
       "      <td>0.675749</td>\n",
       "      <td>6.894751e+04</td>\n",
       "      <td>0.782716</td>\n",
       "      <td>0.399634</td>\n",
       "      <td>...</td>\n",
       "      <td>4.799210</td>\n",
       "      <td>7.400536</td>\n",
       "      <td>4.561689</td>\n",
       "      <td>8.124610</td>\n",
       "      <td>3.216184</td>\n",
       "      <td>5.484104</td>\n",
       "      <td>0.030075</td>\n",
       "      <td>0.062041</td>\n",
       "      <td>0.509069</td>\n",
       "      <td>1.844377</td>\n",
       "    </tr>\n",
       "    <tr>\n",
       "      <th>min</th>\n",
       "      <td>0.000000</td>\n",
       "      <td>500.000000</td>\n",
       "      <td>3.000000</td>\n",
       "      <td>5.310000</td>\n",
       "      <td>15.690000</td>\n",
       "      <td>0.000000</td>\n",
       "      <td>0.000000</td>\n",
       "      <td>0.000000e+00</td>\n",
       "      <td>0.000000</td>\n",
       "      <td>0.000000</td>\n",
       "      <td>...</td>\n",
       "      <td>0.000000</td>\n",
       "      <td>0.000000</td>\n",
       "      <td>0.000000</td>\n",
       "      <td>1.000000</td>\n",
       "      <td>0.000000</td>\n",
       "      <td>0.000000</td>\n",
       "      <td>0.000000</td>\n",
       "      <td>0.000000</td>\n",
       "      <td>0.000000</td>\n",
       "      <td>0.000000</td>\n",
       "    </tr>\n",
       "    <tr>\n",
       "      <th>25%</th>\n",
       "      <td>199999.750000</td>\n",
       "      <td>8000.000000</td>\n",
       "      <td>3.000000</td>\n",
       "      <td>9.750000</td>\n",
       "      <td>248.450000</td>\n",
       "      <td>427.000000</td>\n",
       "      <td>0.000000</td>\n",
       "      <td>4.560000e+04</td>\n",
       "      <td>0.000000</td>\n",
       "      <td>0.000000</td>\n",
       "      <td>...</td>\n",
       "      <td>5.000000</td>\n",
       "      <td>4.000000</td>\n",
       "      <td>5.000000</td>\n",
       "      <td>9.000000</td>\n",
       "      <td>3.000000</td>\n",
       "      <td>8.000000</td>\n",
       "      <td>0.000000</td>\n",
       "      <td>0.000000</td>\n",
       "      <td>0.000000</td>\n",
       "      <td>1.000000</td>\n",
       "    </tr>\n",
       "    <tr>\n",
       "      <th>50%</th>\n",
       "      <td>399999.500000</td>\n",
       "      <td>12000.000000</td>\n",
       "      <td>3.000000</td>\n",
       "      <td>12.740000</td>\n",
       "      <td>375.135000</td>\n",
       "      <td>7755.000000</td>\n",
       "      <td>1.000000</td>\n",
       "      <td>6.500000e+04</td>\n",
       "      <td>1.000000</td>\n",
       "      <td>0.000000</td>\n",
       "      <td>...</td>\n",
       "      <td>7.000000</td>\n",
       "      <td>7.000000</td>\n",
       "      <td>7.000000</td>\n",
       "      <td>13.000000</td>\n",
       "      <td>5.000000</td>\n",
       "      <td>11.000000</td>\n",
       "      <td>0.000000</td>\n",
       "      <td>0.000000</td>\n",
       "      <td>0.000000</td>\n",
       "      <td>2.000000</td>\n",
       "    </tr>\n",
       "    <tr>\n",
       "      <th>75%</th>\n",
       "      <td>599999.250000</td>\n",
       "      <td>20000.000000</td>\n",
       "      <td>3.000000</td>\n",
       "      <td>15.990000</td>\n",
       "      <td>580.710000</td>\n",
       "      <td>117663.500000</td>\n",
       "      <td>1.000000</td>\n",
       "      <td>9.000000e+04</td>\n",
       "      <td>2.000000</td>\n",
       "      <td>0.000000</td>\n",
       "      <td>...</td>\n",
       "      <td>11.000000</td>\n",
       "      <td>11.000000</td>\n",
       "      <td>10.000000</td>\n",
       "      <td>19.000000</td>\n",
       "      <td>7.000000</td>\n",
       "      <td>14.000000</td>\n",
       "      <td>0.000000</td>\n",
       "      <td>0.000000</td>\n",
       "      <td>0.000000</td>\n",
       "      <td>3.000000</td>\n",
       "    </tr>\n",
       "    <tr>\n",
       "      <th>max</th>\n",
       "      <td>799999.000000</td>\n",
       "      <td>40000.000000</td>\n",
       "      <td>5.000000</td>\n",
       "      <td>30.990000</td>\n",
       "      <td>1715.420000</td>\n",
       "      <td>378351.000000</td>\n",
       "      <td>5.000000</td>\n",
       "      <td>1.099920e+07</td>\n",
       "      <td>2.000000</td>\n",
       "      <td>1.000000</td>\n",
       "      <td>...</td>\n",
       "      <td>70.000000</td>\n",
       "      <td>132.000000</td>\n",
       "      <td>79.000000</td>\n",
       "      <td>128.000000</td>\n",
       "      <td>45.000000</td>\n",
       "      <td>82.000000</td>\n",
       "      <td>4.000000</td>\n",
       "      <td>4.000000</td>\n",
       "      <td>39.000000</td>\n",
       "      <td>30.000000</td>\n",
       "    </tr>\n",
       "  </tbody>\n",
       "</table>\n",
       "<p>8 rows × 42 columns</p>\n",
       "</div>"
      ],
      "text/plain": [
       "                  id       loanAmnt           term   interestRate  \\\n",
       "count  800000.000000  800000.000000  800000.000000  800000.000000   \n",
       "mean   399999.500000   14416.818875       3.482745      13.238391   \n",
       "std    230940.252015    8716.086178       0.855832       4.765757   \n",
       "min         0.000000     500.000000       3.000000       5.310000   \n",
       "25%    199999.750000    8000.000000       3.000000       9.750000   \n",
       "50%    399999.500000   12000.000000       3.000000      12.740000   \n",
       "75%    599999.250000   20000.000000       3.000000      15.990000   \n",
       "max    799999.000000   40000.000000       5.000000      30.990000   \n",
       "\n",
       "         installment  employmentTitle  homeOwnership  annualIncome  \\\n",
       "count  800000.000000    799999.000000  800000.000000  8.000000e+05   \n",
       "mean      437.947723     72005.351714       0.614213  7.613391e+04   \n",
       "std       261.460393    106585.640204       0.675749  6.894751e+04   \n",
       "min        15.690000         0.000000       0.000000  0.000000e+00   \n",
       "25%       248.450000       427.000000       0.000000  4.560000e+04   \n",
       "50%       375.135000      7755.000000       1.000000  6.500000e+04   \n",
       "75%       580.710000    117663.500000       1.000000  9.000000e+04   \n",
       "max      1715.420000    378351.000000       5.000000  1.099920e+07   \n",
       "\n",
       "       verificationStatus      isDefault  ...             n5             n6  \\\n",
       "count       800000.000000  800000.000000  ...  759730.000000  759730.000000   \n",
       "mean             1.009683       0.199513  ...       8.107937       8.575994   \n",
       "std              0.782716       0.399634  ...       4.799210       7.400536   \n",
       "min              0.000000       0.000000  ...       0.000000       0.000000   \n",
       "25%              0.000000       0.000000  ...       5.000000       4.000000   \n",
       "50%              1.000000       0.000000  ...       7.000000       7.000000   \n",
       "75%              2.000000       0.000000  ...      11.000000      11.000000   \n",
       "max              2.000000       1.000000  ...      70.000000     132.000000   \n",
       "\n",
       "                  n7             n8             n9            n10  \\\n",
       "count  759730.000000  759729.000000  759730.000000  766761.000000   \n",
       "mean        8.282953      14.622488       5.592345      11.643896   \n",
       "std         4.561689       8.124610       3.216184       5.484104   \n",
       "min         0.000000       1.000000       0.000000       0.000000   \n",
       "25%         5.000000       9.000000       3.000000       8.000000   \n",
       "50%         7.000000      13.000000       5.000000      11.000000   \n",
       "75%        10.000000      19.000000       7.000000      14.000000   \n",
       "max        79.000000     128.000000      45.000000      82.000000   \n",
       "\n",
       "                 n11            n12            n13            n14  \n",
       "count  730248.000000  759730.000000  759730.000000  759730.000000  \n",
       "mean        0.000815       0.003384       0.089366       2.178606  \n",
       "std         0.030075       0.062041       0.509069       1.844377  \n",
       "min         0.000000       0.000000       0.000000       0.000000  \n",
       "25%         0.000000       0.000000       0.000000       1.000000  \n",
       "50%         0.000000       0.000000       0.000000       2.000000  \n",
       "75%         0.000000       0.000000       0.000000       3.000000  \n",
       "max         4.000000       4.000000      39.000000      30.000000  \n",
       "\n",
       "[8 rows x 42 columns]"
      ]
     },
     "execution_count": 4,
     "metadata": {},
     "output_type": "execute_result"
    }
   ],
   "source": [
    "data_train.describe()"
   ]
  },
  {
   "cell_type": "markdown",
   "id": "9351e24c",
   "metadata": {},
   "source": [
    "不存在缺失率大于50%的特征"
   ]
  },
  {
   "cell_type": "code",
   "execution_count": 5,
   "id": "a88dac53",
   "metadata": {
    "ExecuteTime": {
     "end_time": "2021-12-30T05:42:08.396635Z",
     "start_time": "2021-12-30T05:42:08.228781Z"
    }
   },
   "outputs": [
    {
     "data": {
      "text/plain": [
       "{}"
      ]
     },
     "execution_count": 5,
     "metadata": {},
     "output_type": "execute_result"
    }
   ],
   "source": [
    "have_null_fea_dict = (data_train.isnull().sum()/len(data_train)).to_dict()\n",
    "fea_null_moreThanHalf = {}\n",
    "for key,value in have_null_fea_dict.items():\n",
    "    if value > 0.5:\n",
    "        fea_null_moreThanHalf[key] = value\n",
    "        \n",
    "fea_null_moreThanHalf"
   ]
  },
  {
   "cell_type": "code",
   "execution_count": 6,
   "id": "feabd3bf",
   "metadata": {
    "ExecuteTime": {
     "end_time": "2021-12-30T05:42:09.105560Z",
     "start_time": "2021-12-30T05:42:08.715985Z"
    }
   },
   "outputs": [
    {
     "data": {
      "text/plain": [
       "<AxesSubplot:>"
      ]
     },
     "execution_count": 6,
     "metadata": {},
     "output_type": "execute_result"
    },
    {
     "data": {
      "image/png": "[encoded data removed]",
      "text/plain": [
       "<Figure size 432x288 with 1 Axes>"
      ]
     },
     "metadata": {
      "needs_background": "light"
     },
     "output_type": "display_data"
    }
   ],
   "source": [
    "# nan可视化\n",
    "missing = data_train.isnull().sum()/len(data_train)\n",
    "missing = missing[missing > 0]\n",
    "missing.sort_values(inplace=True)\n",
    "missing.plot.bar()"
   ]
  },
  {
   "cell_type": "code",
   "execution_count": 7,
   "id": "63af0727",
   "metadata": {
    "ExecuteTime": {
     "end_time": "2021-12-30T05:42:10.595466Z",
     "start_time": "2021-12-30T05:42:09.597091Z"
    }
   },
   "outputs": [
    {
     "data": {
      "text/plain": [
       "(['policyCode'], ['policyCode'])"
      ]
     },
     "execution_count": 7,
     "metadata": {},
     "output_type": "execute_result"
    }
   ],
   "source": [
    "one_value_fea = [col for col in data_train.columns if data_train[col].nunique() <= 1]\n",
    "one_value_fea_test = [col for col in data_test_a.columns if data_test_a[col].nunique() <= 1]\n",
    "one_value_fea,one_value_fea_test"
   ]
  },
  {
   "cell_type": "code",
   "execution_count": 54,
   "id": "174dd434",
   "metadata": {
    "ExecuteTime": {
     "end_time": "2021-12-30T06:28:42.964477Z",
     "start_time": "2021-12-30T06:28:42.891843Z"
    }
   },
   "outputs": [
    {
     "data": {
      "text/plain": [
       "1 year        52489\n",
       "10+ years    262753\n",
       "2 years       72358\n",
       "3 years       64152\n",
       "4 years       47985\n",
       "5 years       50102\n",
       "6 years       37254\n",
       "7 years       35407\n",
       "8 years       36192\n",
       "9 years       30272\n",
       "< 1 year      64237\n",
       "NaN           46799\n",
       "Name: employmentLength, dtype: int64"
      ]
     },
     "execution_count": 54,
     "metadata": {},
     "output_type": "execute_result"
    }
   ],
   "source": [
    "data_train['employmentLength'].value_counts(dropna=False).sort_index()"
   ]
  },
  {
   "cell_type": "code",
   "execution_count": 8,
   "id": "c19e484d",
   "metadata": {
    "ExecuteTime": {
     "end_time": "2021-12-30T05:42:10.985041Z",
     "start_time": "2021-12-30T05:42:10.908430Z"
    }
   },
   "outputs": [],
   "source": [
    "numerical_fea = list(data_train.select_dtypes(exclude=['object']).columns)\n",
    "category_fea = list(filter(lambda x: x not in numerical_fea,list(data_train.columns)))"
   ]
  },
  {
   "cell_type": "markdown",
   "id": "a2876bc0",
   "metadata": {},
   "source": [
    "数值型变量"
   ]
  },
  {
   "cell_type": "code",
   "execution_count": 9,
   "id": "113f355f",
   "metadata": {
    "ExecuteTime": {
     "end_time": "2021-12-30T05:42:11.359317Z",
     "start_time": "2021-12-30T05:42:11.351371Z"
    }
   },
   "outputs": [
    {
     "data": {
      "text/plain": [
       "['id',\n",
       " 'loanAmnt',\n",
       " 'term',\n",
       " 'interestRate',\n",
       " 'installment',\n",
       " 'employmentTitle',\n",
       " 'homeOwnership',\n",
       " 'annualIncome',\n",
       " 'verificationStatus',\n",
       " 'isDefault',\n",
       " 'purpose',\n",
       " 'postCode',\n",
       " 'regionCode',\n",
       " 'dti',\n",
       " 'delinquency_2years',\n",
       " 'ficoRangeLow',\n",
       " 'ficoRangeHigh',\n",
       " 'openAcc',\n",
       " 'pubRec',\n",
       " 'pubRecBankruptcies',\n",
       " 'revolBal',\n",
       " 'revolUtil',\n",
       " 'totalAcc',\n",
       " 'initialListStatus',\n",
       " 'applicationType',\n",
       " 'title',\n",
       " 'policyCode',\n",
       " 'n0',\n",
       " 'n1',\n",
       " 'n2',\n",
       " 'n3',\n",
       " 'n4',\n",
       " 'n5',\n",
       " 'n6',\n",
       " 'n7',\n",
       " 'n8',\n",
       " 'n9',\n",
       " 'n10',\n",
       " 'n11',\n",
       " 'n12',\n",
       " 'n13',\n",
       " 'n14']"
      ]
     },
     "execution_count": 9,
     "metadata": {},
     "output_type": "execute_result"
    }
   ],
   "source": [
    "numerical_fea"
   ]
  },
  {
   "cell_type": "markdown",
   "id": "1b1cd985",
   "metadata": {},
   "source": [
    "类别型变量"
   ]
  },
  {
   "cell_type": "code",
   "execution_count": 10,
   "id": "ed677528",
   "metadata": {
    "ExecuteTime": {
     "end_time": "2021-12-30T05:42:12.233822Z",
     "start_time": "2021-12-30T05:42:12.225844Z"
    }
   },
   "outputs": [
    {
     "data": {
      "text/plain": [
       "['grade', 'subGrade', 'employmentLength', 'issueDate', 'earliesCreditLine']"
      ]
     },
     "execution_count": 10,
     "metadata": {},
     "output_type": "execute_result"
    }
   ],
   "source": [
    "category_fea"
   ]
  },
  {
   "cell_type": "code",
   "execution_count": 12,
   "id": "62febdee",
   "metadata": {
    "ExecuteTime": {
     "end_time": "2021-12-30T05:42:13.683735Z",
     "start_time": "2021-12-30T05:42:13.153640Z"
    }
   },
   "outputs": [],
   "source": [
    "#过滤数值型类别特征\n",
    "def filter4serial_fea(data,feas):\n",
    "    serialfea = []\n",
    "    noserial = []\n",
    "    for fea in feas:\n",
    "        temp = data[fea].nunique()\n",
    "        if temp <= 10:\n",
    "            noserial.append(fea)\n",
    "            continue\n",
    "        serialfea.append(fea)\n",
    "    return serialfea,noserial\n",
    "numerical_serial_fea,numerical_noserial_fea = filter4serial_fea(data_train,numerical_fea)"
   ]
  },
  {
   "cell_type": "code",
   "execution_count": 13,
   "id": "e558a249",
   "metadata": {
    "ExecuteTime": {
     "end_time": "2021-12-30T05:42:14.010060Z",
     "start_time": "2021-12-30T05:42:13.995143Z"
    }
   },
   "outputs": [
    {
     "data": {
      "text/plain": [
       "['id',\n",
       " 'loanAmnt',\n",
       " 'interestRate',\n",
       " 'installment',\n",
       " 'employmentTitle',\n",
       " 'annualIncome',\n",
       " 'purpose',\n",
       " 'postCode',\n",
       " 'regionCode',\n",
       " 'dti',\n",
       " 'delinquency_2years',\n",
       " 'ficoRangeLow',\n",
       " 'ficoRangeHigh',\n",
       " 'openAcc',\n",
       " 'pubRec',\n",
       " 'pubRecBankruptcies',\n",
       " 'revolBal',\n",
       " 'revolUtil',\n",
       " 'totalAcc',\n",
       " 'title',\n",
       " 'n0',\n",
       " 'n1',\n",
       " 'n2',\n",
       " 'n3',\n",
       " 'n4',\n",
       " 'n5',\n",
       " 'n6',\n",
       " 'n7',\n",
       " 'n8',\n",
       " 'n9',\n",
       " 'n10',\n",
       " 'n13',\n",
       " 'n14']"
      ]
     },
     "execution_count": 13,
     "metadata": {},
     "output_type": "execute_result"
    }
   ],
   "source": [
    "numerical_serial_fea"
   ]
  },
  {
   "cell_type": "code",
   "execution_count": 14,
   "id": "aaefc1d7",
   "metadata": {
    "ExecuteTime": {
     "end_time": "2021-12-30T05:42:14.320305Z",
     "start_time": "2021-12-30T05:42:14.306356Z"
    }
   },
   "outputs": [
    {
     "data": {
      "text/plain": [
       "['term',\n",
       " 'homeOwnership',\n",
       " 'verificationStatus',\n",
       " 'isDefault',\n",
       " 'initialListStatus',\n",
       " 'applicationType',\n",
       " 'policyCode',\n",
       " 'n11',\n",
       " 'n12']"
      ]
     },
     "execution_count": 14,
     "metadata": {},
     "output_type": "execute_result"
    }
   ],
   "source": [
    "numerical_noserial_fea"
   ]
  },
  {
   "cell_type": "markdown",
   "id": "af565f71",
   "metadata": {},
   "source": [
    "数值离散型变量"
   ]
  },
  {
   "cell_type": "code",
   "execution_count": 15,
   "id": "ae258158",
   "metadata": {
    "ExecuteTime": {
     "end_time": "2021-12-30T05:42:15.711991Z",
     "start_time": "2021-12-30T05:42:15.650915Z"
    }
   },
   "outputs": [
    {
     "name": "stdout",
     "output_type": "stream",
     "text": [
      "3    606902\n",
      "5    193098\n",
      "Name: term, dtype: int64\n",
      "0    395732\n",
      "1    317660\n",
      "2     86309\n",
      "3       185\n",
      "5        81\n",
      "4        33\n",
      "Name: homeOwnership, dtype: int64\n",
      "1    309810\n",
      "2    248968\n",
      "0    241222\n",
      "Name: verificationStatus, dtype: int64\n",
      "0    640390\n",
      "1    159610\n",
      "Name: isDefault, dtype: int64\n",
      "0    466438\n",
      "1    333562\n",
      "Name: initialListStatus, dtype: int64\n",
      "0    784586\n",
      "1     15414\n",
      "Name: applicationType, dtype: int64\n",
      "1.0    800000\n",
      "Name: policyCode, dtype: int64\n",
      "0.0    729682\n",
      "1.0       540\n",
      "2.0        24\n",
      "3.0         1\n",
      "4.0         1\n",
      "Name: n11, dtype: int64\n",
      "0.0    757315\n",
      "1.0      2281\n",
      "2.0       115\n",
      "3.0        16\n",
      "4.0         3\n",
      "Name: n12, dtype: int64\n"
     ]
    }
   ],
   "source": [
    "def print_feas(data,feas):\n",
    "    for fea in feas:\n",
    "        print(data[fea].value_counts())\n",
    "        print('*'*10)\n",
    "print_feas(data_train,numerical_noserial_fea)"
   ]
  },
  {
   "cell_type": "markdown",
   "id": "2292457e",
   "metadata": {},
   "source": [
    "数值连续型变量"
   ]
  },
  {
   "cell_type": "code",
   "execution_count": 16,
   "id": "6e43fa65",
   "metadata": {
    "ExecuteTime": {
     "end_time": "2021-12-30T05:42:16.734843Z",
     "start_time": "2021-12-30T05:42:16.727894Z"
    }
   },
   "outputs": [],
   "source": [
    "import warnings\n",
    "warnings.filterwarnings('ignore')"
   ]
  },
  {
   "cell_type": "code",
   "execution_count": 17,
   "id": "eec9e694",
   "metadata": {
    "ExecuteTime": {
     "end_time": "2021-12-30T05:45:25.252996Z",
     "start_time": "2021-12-30T05:42:17.225847Z"
    }
   },
   "outputs": [
    {
     "data": {
      "image/png": "[encoded data removed]",
      "text/plain": [
       "<Figure size 432x3672 with 33 Axes>"
      ]
     },
     "metadata": {
      "needs_background": "light"
     },
     "output_type": "display_data"
    }
   ],
   "source": [
    "#每个数字特征得分布可视化\n",
    "f = pd.melt(data_train, value_vars=numerical_serial_fea)\n",
    "g = sns.FacetGrid(f, col=\"variable\",  col_wrap=2, sharex=False, sharey=False)\n",
    "g = g.map(sns.distplot, \"value\")"
   ]
  },
  {
   "cell_type": "markdown",
   "id": "54c4d35c",
   "metadata": {},
   "source": [
    "非数值类别型变量"
   ]
  },
  {
   "cell_type": "code",
   "execution_count": 18,
   "id": "74dcbb83",
   "metadata": {
    "ExecuteTime": {
     "end_time": "2021-12-30T05:46:05.359053Z",
     "start_time": "2021-12-30T05:46:05.114498Z"
    }
   },
   "outputs": [
    {
     "name": "stdout",
     "output_type": "stream",
     "text": [
      "B    233690\n",
      "C    227118\n",
      "A    139661\n",
      "D    119453\n",
      "E     55661\n",
      "F     19053\n",
      "G      5364\n",
      "Name: grade, dtype: int64\n",
      "C1    50763\n",
      "B4    49516\n",
      "B5    48965\n",
      "B3    48600\n",
      "C2    47068\n",
      "C3    44751\n",
      "C4    44272\n",
      "B2    44227\n",
      "B1    42382\n",
      "C5    40264\n",
      "A5    38045\n",
      "A4    30928\n",
      "D1    30538\n",
      "D2    26528\n",
      "A1    25909\n",
      "D3    23410\n",
      "A3    22655\n",
      "A2    22124\n",
      "D4    21139\n",
      "D5    17838\n",
      "E1    14064\n",
      "E2    12746\n",
      "E3    10925\n",
      "E4     9273\n",
      "E5     8653\n",
      "F1     5925\n",
      "F2     4340\n",
      "F3     3577\n",
      "F4     2859\n",
      "F5     2352\n",
      "G1     1759\n",
      "G2     1231\n",
      "G3      978\n",
      "G4      751\n",
      "G5      645\n",
      "Name: subGrade, dtype: int64\n",
      "10+ years    262753\n",
      "2 years       72358\n",
      "< 1 year      64237\n",
      "3 years       64152\n",
      "1 year        52489\n",
      "5 years       50102\n",
      "4 years       47985\n",
      "6 years       37254\n",
      "8 years       36192\n",
      "7 years       35407\n",
      "9 years       30272\n",
      "Name: employmentLength, dtype: int64\n",
      "2016-03-01    29066\n",
      "2015-10-01    25525\n",
      "2015-07-01    24496\n",
      "2015-12-01    23245\n",
      "2014-10-01    21461\n",
      "              ...  \n",
      "2007-08-01       23\n",
      "2007-07-01       21\n",
      "2008-09-01       19\n",
      "2007-09-01        7\n",
      "2007-06-01        1\n",
      "Name: issueDate, Length: 139, dtype: int64\n",
      "Aug-2001    5567\n",
      "Sep-2003    5403\n",
      "Aug-2002    5403\n",
      "Oct-2001    5258\n",
      "Aug-2000    5246\n",
      "            ... \n",
      "Mar-1958       1\n",
      "Feb-1960       1\n",
      "Jul-1955       1\n",
      "Sep-1957       1\n",
      "Jun-1958       1\n",
      "Name: earliesCreditLine, Length: 720, dtype: int64\n"
     ]
    }
   ],
   "source": [
    "print_feas(data_train,category_fea)"
   ]
  },
  {
   "cell_type": "code",
   "execution_count": 20,
   "id": "ffc4e632",
   "metadata": {
    "ExecuteTime": {
     "end_time": "2021-12-30T05:46:07.741195Z",
     "start_time": "2021-12-30T05:46:07.726304Z"
    }
   },
   "outputs": [],
   "source": [
    "#pfr = pandas_profiling.ProfileReport(data_train)\n",
    "#pfr.to_file(\"./example.html\")"
   ]
  },
  {
   "cell_type": "markdown",
   "id": "55f99c8f",
   "metadata": {},
   "source": [
    "# 特征工程"
   ]
  },
  {
   "cell_type": "code",
   "execution_count": 28,
   "id": "e7886ede",
   "metadata": {
    "ExecuteTime": {
     "end_time": "2021-12-30T06:00:05.884454Z",
     "start_time": "2021-12-30T06:00:05.880465Z"
    }
   },
   "outputs": [],
   "source": [
    "from tqdm import tqdm\n",
    "from sklearn.preprocessing import LabelEncoder\n",
    "from sklearn.feature_selection import SelectKBest\n",
    "from sklearn.feature_selection import chi2\n",
    "from sklearn.preprocessing import MinMaxScaler\n",
    "import xgboost as xgb\n",
    "import lightgbm as lgb\n",
    "# from catboost import CatBoostRegressor\n",
    "from sklearn.model_selection import StratifiedKFold, KFold\n",
    "from sklearn.metrics import accuracy_score, f1_score, roc_auc_score, log_loss"
   ]
  },
  {
   "cell_type": "code",
   "execution_count": 36,
   "id": "2a8eb13b",
   "metadata": {
    "ExecuteTime": {
     "end_time": "2021-12-30T06:06:43.348162Z",
     "start_time": "2021-12-30T06:06:43.342172Z"
    }
   },
   "outputs": [],
   "source": [
    "#numerical_fea.remove('isDefault')"
   ]
  },
  {
   "cell_type": "code",
   "execution_count": 38,
   "id": "4532f244",
   "metadata": {
    "ExecuteTime": {
     "end_time": "2021-12-30T06:09:53.352069Z",
     "start_time": "2021-12-30T06:09:53.192483Z"
    }
   },
   "outputs": [
    {
     "data": {
      "text/plain": [
       "id                        0\n",
       "loanAmnt                  0\n",
       "term                      0\n",
       "interestRate              0\n",
       "installment               0\n",
       "grade                     0\n",
       "subGrade                  0\n",
       "employmentTitle           1\n",
       "employmentLength      46799\n",
       "homeOwnership             0\n",
       "annualIncome              0\n",
       "verificationStatus        0\n",
       "issueDate                 0\n",
       "isDefault                 0\n",
       "purpose                   0\n",
       "postCode                  1\n",
       "regionCode                0\n",
       "dti                     239\n",
       "delinquency_2years        0\n",
       "ficoRangeLow              0\n",
       "ficoRangeHigh             0\n",
       "openAcc                   0\n",
       "pubRec                    0\n",
       "pubRecBankruptcies      405\n",
       "revolBal                  0\n",
       "revolUtil               531\n",
       "totalAcc                  0\n",
       "initialListStatus         0\n",
       "applicationType           0\n",
       "earliesCreditLine         0\n",
       "title                     1\n",
       "policyCode                0\n",
       "n0                    40270\n",
       "n1                    40270\n",
       "n2                    40270\n",
       "n3                    40270\n",
       "n4                    33239\n",
       "n5                    40270\n",
       "n6                    40270\n",
       "n7                    40270\n",
       "n8                    40271\n",
       "n9                    40270\n",
       "n10                   33239\n",
       "n11                   69752\n",
       "n12                   40270\n",
       "n13                   40270\n",
       "n14                   40270\n",
       "dtype: int64"
      ]
     },
     "execution_count": 38,
     "metadata": {},
     "output_type": "execute_result"
    }
   ],
   "source": [
    "#查看缺失值情况\n",
    "data_train.isnull().sum()"
   ]
  },
  {
   "cell_type": "markdown",
   "id": "d572f21a",
   "metadata": {},
   "source": [
    "缺失值处理"
   ]
  },
  {
   "cell_type": "code",
   "execution_count": 39,
   "id": "8488dd5c",
   "metadata": {
    "ExecuteTime": {
     "end_time": "2021-12-30T06:23:56.433618Z",
     "start_time": "2021-12-30T06:23:54.943627Z"
    }
   },
   "outputs": [],
   "source": [
    "#按照平均数填充数值型特征\n",
    "data_train[numerical_fea] = data_train[numerical_fea].fillna(data_train[numerical_fea].median())\n",
    "data_test_a[numerical_fea] = data_test_a[numerical_fea].fillna(data_train[numerical_fea].median())\n",
    "#按照众数填充类别型特征\n",
    "data_train[category_fea] = data_train[category_fea].fillna(data_train[category_fea].mode())\n",
    "data_test_a[category_fea] = data_test_a[category_fea].fillna(data_train[category_fea].mode())"
   ]
  },
  {
   "cell_type": "code",
   "execution_count": 41,
   "id": "b899cd9f",
   "metadata": {
    "ExecuteTime": {
     "end_time": "2021-12-30T06:24:24.827024Z",
     "start_time": "2021-12-30T06:24:24.814033Z"
    }
   },
   "outputs": [
    {
     "data": {
      "text/plain": [
       "['grade', 'subGrade', 'employmentLength', 'issueDate', 'earliesCreditLine']"
      ]
     },
     "execution_count": 41,
     "metadata": {},
     "output_type": "execute_result"
    }
   ],
   "source": [
    "#查看类别特征\n",
    "category_fea"
   ]
  },
  {
   "cell_type": "markdown",
   "id": "10284758",
   "metadata": {},
   "source": [
    "时序处理"
   ]
  },
  {
   "cell_type": "code",
   "execution_count": 51,
   "id": "ac3cec54",
   "metadata": {
    "ExecuteTime": {
     "end_time": "2021-12-30T06:28:32.022594Z",
     "start_time": "2021-12-30T06:28:20.155310Z"
    }
   },
   "outputs": [],
   "source": [
    "#贷款发放的月份\n",
    "#转化成时间格式\n",
    "for data in [data_train, data_test_a]:\n",
    "    data['issueDate'] = pd.to_datetime(data['issueDate'])\n",
    "    startdate = datetime.datetime.strptime('2007-06-01', '%Y-%m-%d')\n",
    "    #构造时间特征\n",
    "    data['issueDateDT'] = data['issueDate'].apply(lambda x: x-startdate).dt.days"
   ]
  },
  {
   "cell_type": "code",
   "execution_count": 55,
   "id": "7ad6bdd8",
   "metadata": {
    "ExecuteTime": {
     "end_time": "2021-12-30T06:29:26.717568Z",
     "start_time": "2021-12-30T06:29:25.774008Z"
    }
   },
   "outputs": [],
   "source": [
    "def employmentLength_to_int(s):\n",
    "    if pd.isnull(s):\n",
    "        return s\n",
    "    else:\n",
    "        return np.int8(s.split()[0])\n",
    "for data in [data_train, data_test_a]:\n",
    "    data['employmentLength'].replace(to_replace='10+ years', value='10 years', inplace=True)\n",
    "    data['employmentLength'].replace('< 1 year', '0 years', inplace=True)\n",
    "    data['employmentLength'] = data['employmentLength'].apply(employmentLength_to_int)"
   ]
  },
  {
   "cell_type": "code",
   "execution_count": 56,
   "id": "3881ec78",
   "metadata": {
    "ExecuteTime": {
     "end_time": "2021-12-30T06:29:33.239586Z",
     "start_time": "2021-12-30T06:29:33.212659Z"
    }
   },
   "outputs": [
    {
     "data": {
      "text/plain": [
       "0.0      64237\n",
       "1.0      52489\n",
       "2.0      72358\n",
       "3.0      64152\n",
       "4.0      47985\n",
       "5.0      50102\n",
       "6.0      37254\n",
       "7.0      35407\n",
       "8.0      36192\n",
       "9.0      30272\n",
       "10.0    262753\n",
       "NaN      46799\n",
       "Name: employmentLength, dtype: int64"
      ]
     },
     "execution_count": 56,
     "metadata": {},
     "output_type": "execute_result"
    }
   ],
   "source": [
    "data_train['employmentLength'].value_counts(dropna=False).sort_index()"
   ]
  },
  {
   "cell_type": "code",
   "execution_count": 57,
   "id": "ec102a41",
   "metadata": {
    "ExecuteTime": {
     "end_time": "2021-12-30T06:32:20.644376Z",
     "start_time": "2021-12-30T06:32:20.633388Z"
    }
   },
   "outputs": [
    {
     "data": {
      "text/plain": [
       "0         Aug-2001\n",
       "1         May-2002\n",
       "2         May-2006\n",
       "3         May-1999\n",
       "4         Aug-1977\n",
       "            ...   \n",
       "799995    Aug-2011\n",
       "799996    May-1989\n",
       "799997    Jul-2002\n",
       "799998    Jan-1994\n",
       "799999    Feb-2002\n",
       "Name: earliesCreditLine, Length: 800000, dtype: object"
      ]
     },
     "execution_count": 57,
     "metadata": {},
     "output_type": "execute_result"
    }
   ],
   "source": [
    "data_train['earliesCreditLine']"
   ]
  },
  {
   "cell_type": "code",
   "execution_count": 58,
   "id": "32bb55a9",
   "metadata": {
    "ExecuteTime": {
     "end_time": "2021-12-30T06:32:45.406735Z",
     "start_time": "2021-12-30T06:32:45.022089Z"
    }
   },
   "outputs": [],
   "source": [
    "for data in [data_train, data_test_a]:\n",
    "    data['earliesCreditLine'] = data['earliesCreditLine'].apply(lambda s: int(s[-4:]))"
   ]
  },
  {
   "cell_type": "code",
   "execution_count": 60,
   "id": "d8ecd0f4",
   "metadata": {
    "ExecuteTime": {
     "end_time": "2021-12-30T06:33:45.548481Z",
     "start_time": "2021-12-30T06:33:45.541499Z"
    }
   },
   "outputs": [
    {
     "data": {
      "text/plain": [
       "0         2001\n",
       "1         2002\n",
       "2         2006\n",
       "3         1999\n",
       "4         1977\n",
       "          ... \n",
       "799995    2011\n",
       "799996    1989\n",
       "799997    2002\n",
       "799998    1994\n",
       "799999    2002\n",
       "Name: earliesCreditLine, Length: 800000, dtype: int64"
      ]
     },
     "execution_count": 60,
     "metadata": {},
     "output_type": "execute_result"
    }
   ],
   "source": [
    "data_train['earliesCreditLine']"
   ]
  },
  {
   "cell_type": "markdown",
   "id": "4222086a",
   "metadata": {
    "ExecuteTime": {
     "end_time": "2021-12-30T06:37:28.056528Z",
     "start_time": "2021-12-30T06:37:28.034587Z"
    }
   },
   "source": [
    "类别特征处理"
   ]
  },
  {
   "cell_type": "code",
   "execution_count": 62,
   "id": "1205e49d",
   "metadata": {
    "ExecuteTime": {
     "end_time": "2021-12-30T06:34:01.468885Z",
     "start_time": "2021-12-30T06:34:01.399057Z"
    }
   },
   "outputs": [
    {
     "name": "stdout",
     "output_type": "stream",
     "text": [
      "grade 类型数： 7\n",
      "subGrade 类型数： 35\n",
      "employmentTitle 类型数： 79282\n",
      "homeOwnership 类型数： 6\n",
      "verificationStatus 类型数： 3\n",
      "purpose 类型数： 14\n",
      "postCode 类型数： 889\n",
      "regionCode 类型数： 51\n",
      "applicationType 类型数： 2\n",
      "initialListStatus 类型数： 2\n",
      "title 类型数： 12058\n",
      "policyCode 类型数： 1\n"
     ]
    }
   ],
   "source": [
    "# 部分类别特征\n",
    "cate_features = ['grade', 'subGrade', 'employmentTitle', 'homeOwnership', 'verificationStatus', 'purpose', 'postCode', 'regionCode', \\\n",
    "                 'applicationType', 'initialListStatus', 'title', 'policyCode']\n",
    "for f in cate_features:\n",
    "    print(f, '类型数：', data[f].nunique())"
   ]
  },
  {
   "cell_type": "code",
   "execution_count": null,
   "id": "61c1bd06",
   "metadata": {},
   "outputs": [],
   "source": [
    "for data in [data_train, data_test_a]:\n",
    "    data['grade'] = data['grade'].map({'A':1,'B':2,'C':3,'D':4,'E':5,'F':6,'G':7})"
   ]
  },
  {
   "cell_type": "code",
   "execution_count": 11,
   "id": "a3f7fed8",
   "metadata": {
    "ExecuteTime": {
     "end_time": "2021-12-30T05:42:12.721265Z",
     "start_time": "2021-12-30T05:42:12.681372Z"
    }
   },
   "outputs": [
    {
     "data": {
      "text/html": [
       "<div>\n",
       "<style scoped>\n",
       "    .dataframe tbody tr th:only-of-type {\n",
       "        vertical-align: middle;\n",
       "    }\n",
       "\n",
       "    .dataframe tbody tr th {\n",
       "        vertical-align: top;\n",
       "    }\n",
       "\n",
       "    .dataframe thead th {\n",
       "        text-align: right;\n",
       "    }\n",
       "</style>\n",
       "<table border=\"1\" class=\"dataframe\">\n",
       "  <thead>\n",
       "    <tr style=\"text-align: right;\">\n",
       "      <th></th>\n",
       "      <th>grade</th>\n",
       "      <th>subGrade</th>\n",
       "      <th>employmentLength</th>\n",
       "      <th>issueDate</th>\n",
       "      <th>earliesCreditLine</th>\n",
       "    </tr>\n",
       "  </thead>\n",
       "  <tbody>\n",
       "    <tr>\n",
       "      <th>0</th>\n",
       "      <td>E</td>\n",
       "      <td>E2</td>\n",
       "      <td>2 years</td>\n",
       "      <td>2014-07-01</td>\n",
       "      <td>Aug-2001</td>\n",
       "    </tr>\n",
       "    <tr>\n",
       "      <th>1</th>\n",
       "      <td>D</td>\n",
       "      <td>D2</td>\n",
       "      <td>5 years</td>\n",
       "      <td>2012-08-01</td>\n",
       "      <td>May-2002</td>\n",
       "    </tr>\n",
       "    <tr>\n",
       "      <th>2</th>\n",
       "      <td>D</td>\n",
       "      <td>D3</td>\n",
       "      <td>8 years</td>\n",
       "      <td>2015-10-01</td>\n",
       "      <td>May-2006</td>\n",
       "    </tr>\n",
       "    <tr>\n",
       "      <th>3</th>\n",
       "      <td>A</td>\n",
       "      <td>A4</td>\n",
       "      <td>10+ years</td>\n",
       "      <td>2015-08-01</td>\n",
       "      <td>May-1999</td>\n",
       "    </tr>\n",
       "    <tr>\n",
       "      <th>4</th>\n",
       "      <td>C</td>\n",
       "      <td>C2</td>\n",
       "      <td>NaN</td>\n",
       "      <td>2016-03-01</td>\n",
       "      <td>Aug-1977</td>\n",
       "    </tr>\n",
       "    <tr>\n",
       "      <th>...</th>\n",
       "      <td>...</td>\n",
       "      <td>...</td>\n",
       "      <td>...</td>\n",
       "      <td>...</td>\n",
       "      <td>...</td>\n",
       "    </tr>\n",
       "    <tr>\n",
       "      <th>799995</th>\n",
       "      <td>C</td>\n",
       "      <td>C4</td>\n",
       "      <td>7 years</td>\n",
       "      <td>2016-07-01</td>\n",
       "      <td>Aug-2011</td>\n",
       "    </tr>\n",
       "    <tr>\n",
       "      <th>799996</th>\n",
       "      <td>A</td>\n",
       "      <td>A4</td>\n",
       "      <td>10+ years</td>\n",
       "      <td>2013-04-01</td>\n",
       "      <td>May-1989</td>\n",
       "    </tr>\n",
       "    <tr>\n",
       "      <th>799997</th>\n",
       "      <td>C</td>\n",
       "      <td>C3</td>\n",
       "      <td>10+ years</td>\n",
       "      <td>2015-10-01</td>\n",
       "      <td>Jul-2002</td>\n",
       "    </tr>\n",
       "    <tr>\n",
       "      <th>799998</th>\n",
       "      <td>A</td>\n",
       "      <td>A4</td>\n",
       "      <td>10+ years</td>\n",
       "      <td>2015-02-01</td>\n",
       "      <td>Jan-1994</td>\n",
       "    </tr>\n",
       "    <tr>\n",
       "      <th>799999</th>\n",
       "      <td>B</td>\n",
       "      <td>B3</td>\n",
       "      <td>5 years</td>\n",
       "      <td>2018-08-01</td>\n",
       "      <td>Feb-2002</td>\n",
       "    </tr>\n",
       "  </tbody>\n",
       "</table>\n",
       "<p>800000 rows × 5 columns</p>\n",
       "</div>"
      ],
      "text/plain": [
       "       grade subGrade employmentLength   issueDate earliesCreditLine\n",
       "0          E       E2          2 years  2014-07-01          Aug-2001\n",
       "1          D       D2          5 years  2012-08-01          May-2002\n",
       "2          D       D3          8 years  2015-10-01          May-2006\n",
       "3          A       A4        10+ years  2015-08-01          May-1999\n",
       "4          C       C2              NaN  2016-03-01          Aug-1977\n",
       "...      ...      ...              ...         ...               ...\n",
       "799995     C       C4          7 years  2016-07-01          Aug-2011\n",
       "799996     A       A4        10+ years  2013-04-01          May-1989\n",
       "799997     C       C3        10+ years  2015-10-01          Jul-2002\n",
       "799998     A       A4        10+ years  2015-02-01          Jan-1994\n",
       "799999     B       B3          5 years  2018-08-01          Feb-2002\n",
       "\n",
       "[800000 rows x 5 columns]"
      ]
     },
     "execution_count": 11,
     "metadata": {},
     "output_type": "execute_result"
    }
   ],
   "source": [
    "data_train[category_fea]"
   ]
  },
  {
   "cell_type": "code",
   "execution_count": 63,
   "id": "066338cd",
   "metadata": {
    "ExecuteTime": {
     "end_time": "2021-12-30T06:35:17.951127Z",
     "start_time": "2021-12-30T06:35:17.294380Z"
    }
   },
   "outputs": [],
   "source": [
    "# 类型数在2之上，又不是高维稀疏的,且纯分类特征\n",
    "for data in [data_train, data_test_a]:\n",
    "    data = pd.get_dummies(data, columns=['subGrade', 'homeOwnership', 'verificationStatus', 'purpose', 'regionCode'], drop_first=True)"
   ]
  },
  {
   "cell_type": "markdown",
   "id": "93989939",
   "metadata": {
    "ExecuteTime": {
     "end_time": "2021-12-30T06:35:30.517641Z",
     "start_time": "2021-12-30T06:35:30.499689Z"
    }
   },
   "source": [
    "异常值检测"
   ]
  },
  {
   "cell_type": "code",
   "execution_count": 66,
   "id": "c2675575",
   "metadata": {
    "ExecuteTime": {
     "end_time": "2021-12-30T06:51:02.150507Z",
     "start_time": "2021-12-30T06:51:02.133552Z"
    }
   },
   "outputs": [],
   "source": [
    "def find_outliers_by_3segama(data,fea):\n",
    "    data_std = np.std(data[fea])\n",
    "    data_mean = np.mean(data[fea])\n",
    "    outliers_cut_off = data_std * 3\n",
    "    lower_rule = data_mean - outliers_cut_off\n",
    "    upper_rule = data_mean + outliers_cut_off\n",
    "    data[fea+'_outliers'] = data[fea].apply(lambda x:str('异常值') if x > upper_rule or x < lower_rule else '正常值')\n",
    "    return data"
   ]
  },
  {
   "cell_type": "code",
   "execution_count": 67,
   "id": "826cbf40",
   "metadata": {
    "ExecuteTime": {
     "end_time": "2021-12-30T06:51:18.223537Z",
     "start_time": "2021-12-30T06:51:08.953469Z"
    }
   },
   "outputs": [
    {
     "name": "stdout",
     "output_type": "stream",
     "text": [
      "正常值    800000\n",
      "Name: id_outliers, dtype: int64\n",
      "id_outliers\n",
      "正常值    159610\n",
      "Name: isDefault, dtype: int64\n",
      "**********\n",
      "正常值    800000\n",
      "Name: loanAmnt_outliers, dtype: int64\n",
      "loanAmnt_outliers\n",
      "正常值    159610\n",
      "Name: isDefault, dtype: int64\n",
      "**********\n",
      "正常值    800000\n",
      "Name: term_outliers, dtype: int64\n",
      "term_outliers\n",
      "正常值    159610\n",
      "Name: isDefault, dtype: int64\n",
      "**********\n",
      "正常值    794259\n",
      "异常值      5741\n",
      "Name: interestRate_outliers, dtype: int64\n",
      "interestRate_outliers\n",
      "异常值      2916\n",
      "正常值    156694\n",
      "Name: isDefault, dtype: int64\n",
      "**********\n",
      "正常值    792046\n",
      "异常值      7954\n",
      "Name: installment_outliers, dtype: int64\n",
      "installment_outliers\n",
      "异常值      2152\n",
      "正常值    157458\n",
      "Name: isDefault, dtype: int64\n",
      "**********\n",
      "正常值    800000\n",
      "Name: employmentTitle_outliers, dtype: int64\n",
      "employmentTitle_outliers\n",
      "正常值    159610\n",
      "Name: isDefault, dtype: int64\n",
      "**********\n",
      "正常值    799701\n",
      "异常值       299\n",
      "Name: homeOwnership_outliers, dtype: int64\n",
      "homeOwnership_outliers\n",
      "异常值        62\n",
      "正常值    159548\n",
      "Name: isDefault, dtype: int64\n",
      "**********\n",
      "正常值    793973\n",
      "异常值      6027\n",
      "Name: annualIncome_outliers, dtype: int64\n",
      "annualIncome_outliers\n",
      "异常值       756\n",
      "正常值    158854\n",
      "Name: isDefault, dtype: int64\n",
      "**********\n",
      "正常值    800000\n",
      "Name: verificationStatus_outliers, dtype: int64\n",
      "verificationStatus_outliers\n",
      "正常值    159610\n",
      "Name: isDefault, dtype: int64\n",
      "**********\n",
      "正常值    783003\n",
      "异常值     16997\n",
      "Name: purpose_outliers, dtype: int64\n",
      "purpose_outliers\n",
      "异常值      3635\n",
      "正常值    155975\n",
      "Name: isDefault, dtype: int64\n",
      "**********\n",
      "正常值    798931\n",
      "异常值      1069\n",
      "Name: postCode_outliers, dtype: int64\n",
      "postCode_outliers\n",
      "异常值       221\n",
      "正常值    159389\n",
      "Name: isDefault, dtype: int64\n",
      "**********\n",
      "正常值    799994\n",
      "异常值         6\n",
      "Name: regionCode_outliers, dtype: int64\n",
      "regionCode_outliers\n",
      "异常值         1\n",
      "正常值    159609\n",
      "Name: isDefault, dtype: int64\n",
      "**********\n",
      "正常值    798440\n",
      "异常值      1560\n",
      "Name: dti_outliers, dtype: int64\n",
      "dti_outliers\n",
      "异常值       466\n",
      "正常值    159144\n",
      "Name: isDefault, dtype: int64\n",
      "**********\n",
      "正常值    778245\n",
      "异常值     21755\n",
      "Name: delinquency_2years_outliers, dtype: int64\n",
      "delinquency_2years_outliers\n",
      "异常值      5089\n",
      "正常值    154521\n",
      "Name: isDefault, dtype: int64\n",
      "**********\n",
      "正常值    788261\n",
      "异常值     11739\n",
      "Name: ficoRangeLow_outliers, dtype: int64\n",
      "ficoRangeLow_outliers\n",
      "异常值       778\n",
      "正常值    158832\n",
      "Name: isDefault, dtype: int64\n",
      "**********\n",
      "正常值    788261\n",
      "异常值     11739\n",
      "Name: ficoRangeHigh_outliers, dtype: int64\n",
      "ficoRangeHigh_outliers\n",
      "异常值       778\n",
      "正常值    158832\n",
      "Name: isDefault, dtype: int64\n",
      "**********\n",
      "正常值    790889\n",
      "异常值      9111\n",
      "Name: openAcc_outliers, dtype: int64\n",
      "openAcc_outliers\n",
      "异常值      2195\n",
      "正常值    157415\n",
      "Name: isDefault, dtype: int64\n",
      "**********\n",
      "正常值    792471\n",
      "异常值      7529\n",
      "Name: pubRec_outliers, dtype: int64\n",
      "pubRec_outliers\n",
      "异常值      1701\n",
      "正常值    157909\n",
      "Name: isDefault, dtype: int64\n",
      "**********\n",
      "正常值    794120\n",
      "异常值      5880\n",
      "Name: pubRecBankruptcies_outliers, dtype: int64\n",
      "pubRecBankruptcies_outliers\n",
      "异常值      1423\n",
      "正常值    158187\n",
      "Name: isDefault, dtype: int64\n",
      "**********\n",
      "正常值    790001\n",
      "异常值      9999\n",
      "Name: revolBal_outliers, dtype: int64\n",
      "revolBal_outliers\n",
      "异常值      1359\n",
      "正常值    158251\n",
      "Name: isDefault, dtype: int64\n",
      "**********\n",
      "正常值    799948\n",
      "异常值        52\n",
      "Name: revolUtil_outliers, dtype: int64\n",
      "revolUtil_outliers\n",
      "异常值        23\n",
      "正常值    159587\n",
      "Name: isDefault, dtype: int64\n",
      "**********\n",
      "正常值    791663\n",
      "异常值      8337\n",
      "Name: totalAcc_outliers, dtype: int64\n",
      "totalAcc_outliers\n",
      "异常值      1668\n",
      "正常值    157942\n",
      "Name: isDefault, dtype: int64\n",
      "**********\n",
      "正常值    800000\n",
      "Name: initialListStatus_outliers, dtype: int64\n",
      "initialListStatus_outliers\n",
      "正常值    159610\n",
      "Name: isDefault, dtype: int64\n",
      "**********\n",
      "正常值    784586\n",
      "异常值     15414\n",
      "Name: applicationType_outliers, dtype: int64\n",
      "applicationType_outliers\n",
      "异常值      3875\n",
      "正常值    155735\n",
      "Name: isDefault, dtype: int64\n",
      "**********\n",
      "正常值    775134\n",
      "异常值     24866\n",
      "Name: title_outliers, dtype: int64\n",
      "title_outliers\n",
      "异常值      3900\n",
      "正常值    155710\n",
      "Name: isDefault, dtype: int64\n",
      "**********\n",
      "正常值    800000\n",
      "Name: policyCode_outliers, dtype: int64\n",
      "policyCode_outliers\n",
      "正常值    159610\n",
      "Name: isDefault, dtype: int64\n",
      "**********\n",
      "正常值    782773\n",
      "异常值     17227\n",
      "Name: n0_outliers, dtype: int64\n",
      "n0_outliers\n",
      "异常值      3485\n",
      "正常值    156125\n",
      "Name: isDefault, dtype: int64\n",
      "**********\n",
      "正常值    790500\n",
      "异常值      9500\n",
      "Name: n1_outliers, dtype: int64\n",
      "n1_outliers\n",
      "异常值      2491\n",
      "正常值    157119\n",
      "Name: isDefault, dtype: int64\n",
      "**********\n",
      "正常值    789067\n",
      "异常值     10933\n",
      "Name: n2_outliers, dtype: int64\n",
      "n2_outliers\n",
      "异常值      3205\n",
      "正常值    156405\n",
      "Name: isDefault, dtype: int64\n",
      "**********\n",
      "正常值    789067\n",
      "异常值     10933\n",
      "Name: n3_outliers, dtype: int64\n",
      "n3_outliers\n",
      "异常值      3205\n",
      "正常值    156405\n",
      "Name: isDefault, dtype: int64\n",
      "**********\n",
      "正常值    788660\n",
      "异常值     11340\n",
      "Name: n4_outliers, dtype: int64\n",
      "n4_outliers\n",
      "异常值      2476\n",
      "正常值    157134\n",
      "Name: isDefault, dtype: int64\n",
      "**********\n",
      "正常值    790355\n",
      "异常值      9645\n",
      "Name: n5_outliers, dtype: int64\n",
      "n5_outliers\n",
      "异常值      1858\n",
      "正常值    157752\n",
      "Name: isDefault, dtype: int64\n",
      "**********\n",
      "正常值    786006\n",
      "异常值     13994\n",
      "Name: n6_outliers, dtype: int64\n",
      "n6_outliers\n",
      "异常值      3182\n",
      "正常值    156428\n",
      "Name: isDefault, dtype: int64\n",
      "**********\n",
      "正常值    788430\n",
      "异常值     11570\n",
      "Name: n7_outliers, dtype: int64\n",
      "n7_outliers\n",
      "异常值      2746\n",
      "正常值    156864\n",
      "Name: isDefault, dtype: int64\n",
      "**********\n",
      "正常值    789625\n",
      "异常值     10375\n",
      "Name: n8_outliers, dtype: int64\n",
      "n8_outliers\n",
      "异常值      2131\n",
      "正常值    157479\n",
      "Name: isDefault, dtype: int64\n",
      "**********\n",
      "正常值    786384\n",
      "异常值     13616\n",
      "Name: n9_outliers, dtype: int64\n",
      "n9_outliers\n",
      "异常值      3953\n",
      "正常值    155657\n",
      "Name: isDefault, dtype: int64\n",
      "**********\n",
      "正常值    788979\n",
      "异常值     11021\n",
      "Name: n10_outliers, dtype: int64\n",
      "n10_outliers\n",
      "异常值      2639\n",
      "正常值    156971\n",
      "Name: isDefault, dtype: int64\n",
      "**********\n",
      "正常值    799434\n",
      "异常值       566\n",
      "Name: n11_outliers, dtype: int64\n",
      "n11_outliers\n",
      "异常值       112\n",
      "正常值    159498\n",
      "Name: isDefault, dtype: int64\n",
      "**********\n",
      "正常值    797585\n",
      "异常值      2415\n",
      "Name: n12_outliers, dtype: int64\n",
      "n12_outliers\n",
      "异常值       545\n",
      "正常值    159065\n",
      "Name: isDefault, dtype: int64\n",
      "**********\n",
      "正常值    788907\n",
      "异常值     11093\n",
      "Name: n13_outliers, dtype: int64\n",
      "n13_outliers\n",
      "异常值      2482\n",
      "正常值    157128\n",
      "Name: isDefault, dtype: int64\n",
      "**********\n",
      "正常值    788884\n",
      "异常值     11116\n",
      "Name: n14_outliers, dtype: int64\n",
      "n14_outliers\n",
      "异常值      3364\n",
      "正常值    156246\n",
      "Name: isDefault, dtype: int64\n",
      "**********\n"
     ]
    }
   ],
   "source": [
    "data_train = data_train.copy()\n",
    "for fea in numerical_fea:\n",
    "    data_train = find_outliers_by_3segama(data_train,fea)\n",
    "    print(data_train[fea+'_outliers'].value_counts())\n",
    "    print(data_train.groupby(fea+'_outliers')['isDefault'].sum())\n",
    "    print('*'*10)"
   ]
  },
  {
   "cell_type": "code",
   "execution_count": 68,
   "id": "7b2b8995",
   "metadata": {
    "ExecuteTime": {
     "end_time": "2021-12-30T06:54:51.900922Z",
     "start_time": "2021-12-30T06:54:30.026922Z"
    }
   },
   "outputs": [],
   "source": [
    "#删除异常值\n",
    "for fea in numerical_fea:\n",
    "    data_train = data_train[data_train[fea+'_outliers']=='正常值']\n",
    "    data_train = data_train.reset_index(drop=True) "
   ]
  },
  {
   "cell_type": "markdown",
   "id": "a3b41f1d",
   "metadata": {},
   "source": [
    "特征编码"
   ]
  },
  {
   "cell_type": "code",
   "execution_count": 69,
   "id": "b30c709a",
   "metadata": {
    "ExecuteTime": {
     "end_time": "2021-12-30T06:55:48.406444Z",
     "start_time": "2021-12-30T06:55:43.384592Z"
    }
   },
   "outputs": [
    {
     "name": "stderr",
     "output_type": "stream",
     "text": [
      "100%|████████████████████████████████████████████████████████████████████████████████████| 4/4 [00:05<00:00,  1.25s/it]"
     ]
    },
    {
     "name": "stdout",
     "output_type": "stream",
     "text": [
      "Label Encoding 完成\n"
     ]
    },
    {
     "name": "stderr",
     "output_type": "stream",
     "text": [
      "\n"
     ]
    }
   ],
   "source": [
    "#label-encode:subGrade,postCode,title\n",
    "# 高维类别特征需要进行转换\n",
    "for col in tqdm(['employmentTitle', 'postCode', 'title','subGrade']):\n",
    "    le = LabelEncoder()\n",
    "    le.fit(list(data_train[col].astype(str).values) + list(data_test_a[col].astype(str).values))\n",
    "    data_train[col] = le.transform(list(data_train[col].astype(str).values))\n",
    "    data_test_a[col] = le.transform(list(data_test_a[col].astype(str).values))\n",
    "print('Label Encoding 完成')"
   ]
  },
  {
   "cell_type": "code",
   "execution_count": 72,
   "id": "6d05b3ff",
   "metadata": {
    "ExecuteTime": {
     "end_time": "2021-12-30T07:35:53.733624Z",
     "start_time": "2021-12-30T07:35:53.507184Z"
    }
   },
   "outputs": [
    {
     "data": {
      "text/html": [
       "<div>\n",
       "<style scoped>\n",
       "    .dataframe tbody tr th:only-of-type {\n",
       "        vertical-align: middle;\n",
       "    }\n",
       "\n",
       "    .dataframe tbody tr th {\n",
       "        vertical-align: top;\n",
       "    }\n",
       "\n",
       "    .dataframe thead th {\n",
       "        text-align: right;\n",
       "    }\n",
       "</style>\n",
       "<table border=\"1\" class=\"dataframe\">\n",
       "  <thead>\n",
       "    <tr style=\"text-align: right;\">\n",
       "      <th></th>\n",
       "      <th>id</th>\n",
       "      <th>loanAmnt</th>\n",
       "      <th>term</th>\n",
       "      <th>interestRate</th>\n",
       "      <th>installment</th>\n",
       "      <th>grade</th>\n",
       "      <th>subGrade</th>\n",
       "      <th>employmentTitle</th>\n",
       "      <th>employmentLength</th>\n",
       "      <th>homeOwnership</th>\n",
       "      <th>...</th>\n",
       "      <th>n5_outliers</th>\n",
       "      <th>n6_outliers</th>\n",
       "      <th>n7_outliers</th>\n",
       "      <th>n8_outliers</th>\n",
       "      <th>n9_outliers</th>\n",
       "      <th>n10_outliers</th>\n",
       "      <th>n11_outliers</th>\n",
       "      <th>n12_outliers</th>\n",
       "      <th>n13_outliers</th>\n",
       "      <th>n14_outliers</th>\n",
       "    </tr>\n",
       "  </thead>\n",
       "  <tbody>\n",
       "    <tr>\n",
       "      <th>0</th>\n",
       "      <td>0</td>\n",
       "      <td>35000.0</td>\n",
       "      <td>5</td>\n",
       "      <td>19.52</td>\n",
       "      <td>917.97</td>\n",
       "      <td>E</td>\n",
       "      <td>21</td>\n",
       "      <td>161280</td>\n",
       "      <td>2.0</td>\n",
       "      <td>2</td>\n",
       "      <td>...</td>\n",
       "      <td>正常值</td>\n",
       "      <td>正常值</td>\n",
       "      <td>正常值</td>\n",
       "      <td>正常值</td>\n",
       "      <td>正常值</td>\n",
       "      <td>正常值</td>\n",
       "      <td>正常值</td>\n",
       "      <td>正常值</td>\n",
       "      <td>正常值</td>\n",
       "      <td>正常值</td>\n",
       "    </tr>\n",
       "    <tr>\n",
       "      <th>1</th>\n",
       "      <td>1</td>\n",
       "      <td>18000.0</td>\n",
       "      <td>5</td>\n",
       "      <td>18.49</td>\n",
       "      <td>461.90</td>\n",
       "      <td>D</td>\n",
       "      <td>16</td>\n",
       "      <td>89538</td>\n",
       "      <td>5.0</td>\n",
       "      <td>0</td>\n",
       "      <td>...</td>\n",
       "      <td>正常值</td>\n",
       "      <td>正常值</td>\n",
       "      <td>正常值</td>\n",
       "      <td>正常值</td>\n",
       "      <td>正常值</td>\n",
       "      <td>正常值</td>\n",
       "      <td>正常值</td>\n",
       "      <td>正常值</td>\n",
       "      <td>正常值</td>\n",
       "      <td>正常值</td>\n",
       "    </tr>\n",
       "    <tr>\n",
       "      <th>2</th>\n",
       "      <td>2</td>\n",
       "      <td>12000.0</td>\n",
       "      <td>5</td>\n",
       "      <td>16.99</td>\n",
       "      <td>298.17</td>\n",
       "      <td>D</td>\n",
       "      <td>17</td>\n",
       "      <td>159367</td>\n",
       "      <td>8.0</td>\n",
       "      <td>0</td>\n",
       "      <td>...</td>\n",
       "      <td>正常值</td>\n",
       "      <td>正常值</td>\n",
       "      <td>正常值</td>\n",
       "      <td>正常值</td>\n",
       "      <td>正常值</td>\n",
       "      <td>正常值</td>\n",
       "      <td>正常值</td>\n",
       "      <td>正常值</td>\n",
       "      <td>正常值</td>\n",
       "      <td>正常值</td>\n",
       "    </tr>\n",
       "    <tr>\n",
       "      <th>3</th>\n",
       "      <td>6</td>\n",
       "      <td>2050.0</td>\n",
       "      <td>3</td>\n",
       "      <td>7.69</td>\n",
       "      <td>63.95</td>\n",
       "      <td>A</td>\n",
       "      <td>3</td>\n",
       "      <td>59830</td>\n",
       "      <td>9.0</td>\n",
       "      <td>0</td>\n",
       "      <td>...</td>\n",
       "      <td>正常值</td>\n",
       "      <td>正常值</td>\n",
       "      <td>正常值</td>\n",
       "      <td>正常值</td>\n",
       "      <td>正常值</td>\n",
       "      <td>正常值</td>\n",
       "      <td>正常值</td>\n",
       "      <td>正常值</td>\n",
       "      <td>正常值</td>\n",
       "      <td>正常值</td>\n",
       "    </tr>\n",
       "    <tr>\n",
       "      <th>4</th>\n",
       "      <td>7</td>\n",
       "      <td>11500.0</td>\n",
       "      <td>3</td>\n",
       "      <td>14.98</td>\n",
       "      <td>398.54</td>\n",
       "      <td>C</td>\n",
       "      <td>12</td>\n",
       "      <td>85242</td>\n",
       "      <td>1.0</td>\n",
       "      <td>1</td>\n",
       "      <td>...</td>\n",
       "      <td>正常值</td>\n",
       "      <td>正常值</td>\n",
       "      <td>正常值</td>\n",
       "      <td>正常值</td>\n",
       "      <td>正常值</td>\n",
       "      <td>正常值</td>\n",
       "      <td>正常值</td>\n",
       "      <td>正常值</td>\n",
       "      <td>正常值</td>\n",
       "      <td>正常值</td>\n",
       "    </tr>\n",
       "    <tr>\n",
       "      <th>...</th>\n",
       "      <td>...</td>\n",
       "      <td>...</td>\n",
       "      <td>...</td>\n",
       "      <td>...</td>\n",
       "      <td>...</td>\n",
       "      <td>...</td>\n",
       "      <td>...</td>\n",
       "      <td>...</td>\n",
       "      <td>...</td>\n",
       "      <td>...</td>\n",
       "      <td>...</td>\n",
       "      <td>...</td>\n",
       "      <td>...</td>\n",
       "      <td>...</td>\n",
       "      <td>...</td>\n",
       "      <td>...</td>\n",
       "      <td>...</td>\n",
       "      <td>...</td>\n",
       "      <td>...</td>\n",
       "      <td>...</td>\n",
       "      <td>...</td>\n",
       "    </tr>\n",
       "    <tr>\n",
       "      <th>612737</th>\n",
       "      <td>799994</td>\n",
       "      <td>15000.0</td>\n",
       "      <td>5</td>\n",
       "      <td>19.52</td>\n",
       "      <td>393.42</td>\n",
       "      <td>E</td>\n",
       "      <td>21</td>\n",
       "      <td>142989</td>\n",
       "      <td>7.0</td>\n",
       "      <td>0</td>\n",
       "      <td>...</td>\n",
       "      <td>正常值</td>\n",
       "      <td>正常值</td>\n",
       "      <td>正常值</td>\n",
       "      <td>正常值</td>\n",
       "      <td>正常值</td>\n",
       "      <td>正常值</td>\n",
       "      <td>正常值</td>\n",
       "      <td>正常值</td>\n",
       "      <td>正常值</td>\n",
       "      <td>正常值</td>\n",
       "    </tr>\n",
       "    <tr>\n",
       "      <th>612738</th>\n",
       "      <td>799995</td>\n",
       "      <td>25000.0</td>\n",
       "      <td>3</td>\n",
       "      <td>14.49</td>\n",
       "      <td>860.41</td>\n",
       "      <td>C</td>\n",
       "      <td>13</td>\n",
       "      <td>125173</td>\n",
       "      <td>7.0</td>\n",
       "      <td>1</td>\n",
       "      <td>...</td>\n",
       "      <td>正常值</td>\n",
       "      <td>正常值</td>\n",
       "      <td>正常值</td>\n",
       "      <td>正常值</td>\n",
       "      <td>正常值</td>\n",
       "      <td>正常值</td>\n",
       "      <td>正常值</td>\n",
       "      <td>正常值</td>\n",
       "      <td>正常值</td>\n",
       "      <td>正常值</td>\n",
       "    </tr>\n",
       "    <tr>\n",
       "      <th>612739</th>\n",
       "      <td>799997</td>\n",
       "      <td>6000.0</td>\n",
       "      <td>3</td>\n",
       "      <td>13.33</td>\n",
       "      <td>203.12</td>\n",
       "      <td>C</td>\n",
       "      <td>12</td>\n",
       "      <td>119990</td>\n",
       "      <td>10.0</td>\n",
       "      <td>1</td>\n",
       "      <td>...</td>\n",
       "      <td>正常值</td>\n",
       "      <td>正常值</td>\n",
       "      <td>正常值</td>\n",
       "      <td>正常值</td>\n",
       "      <td>正常值</td>\n",
       "      <td>正常值</td>\n",
       "      <td>正常值</td>\n",
       "      <td>正常值</td>\n",
       "      <td>正常值</td>\n",
       "      <td>正常值</td>\n",
       "    </tr>\n",
       "    <tr>\n",
       "      <th>612740</th>\n",
       "      <td>799998</td>\n",
       "      <td>19200.0</td>\n",
       "      <td>3</td>\n",
       "      <td>6.92</td>\n",
       "      <td>592.14</td>\n",
       "      <td>A</td>\n",
       "      <td>3</td>\n",
       "      <td>38409</td>\n",
       "      <td>10.0</td>\n",
       "      <td>0</td>\n",
       "      <td>...</td>\n",
       "      <td>正常值</td>\n",
       "      <td>正常值</td>\n",
       "      <td>正常值</td>\n",
       "      <td>正常值</td>\n",
       "      <td>正常值</td>\n",
       "      <td>正常值</td>\n",
       "      <td>正常值</td>\n",
       "      <td>正常值</td>\n",
       "      <td>正常值</td>\n",
       "      <td>正常值</td>\n",
       "    </tr>\n",
       "    <tr>\n",
       "      <th>612741</th>\n",
       "      <td>799999</td>\n",
       "      <td>9000.0</td>\n",
       "      <td>3</td>\n",
       "      <td>11.06</td>\n",
       "      <td>294.91</td>\n",
       "      <td>B</td>\n",
       "      <td>7</td>\n",
       "      <td>22980</td>\n",
       "      <td>5.0</td>\n",
       "      <td>0</td>\n",
       "      <td>...</td>\n",
       "      <td>正常值</td>\n",
       "      <td>正常值</td>\n",
       "      <td>正常值</td>\n",
       "      <td>正常值</td>\n",
       "      <td>正常值</td>\n",
       "      <td>正常值</td>\n",
       "      <td>正常值</td>\n",
       "      <td>正常值</td>\n",
       "      <td>正常值</td>\n",
       "      <td>正常值</td>\n",
       "    </tr>\n",
       "  </tbody>\n",
       "</table>\n",
       "<p>612742 rows × 89 columns</p>\n",
       "</div>"
      ],
      "text/plain": [
       "            id  loanAmnt  term  interestRate  installment grade  subGrade  \\\n",
       "0            0   35000.0     5         19.52       917.97     E        21   \n",
       "1            1   18000.0     5         18.49       461.90     D        16   \n",
       "2            2   12000.0     5         16.99       298.17     D        17   \n",
       "3            6    2050.0     3          7.69        63.95     A         3   \n",
       "4            7   11500.0     3         14.98       398.54     C        12   \n",
       "...        ...       ...   ...           ...          ...   ...       ...   \n",
       "612737  799994   15000.0     5         19.52       393.42     E        21   \n",
       "612738  799995   25000.0     3         14.49       860.41     C        13   \n",
       "612739  799997    6000.0     3         13.33       203.12     C        12   \n",
       "612740  799998   19200.0     3          6.92       592.14     A         3   \n",
       "612741  799999    9000.0     3         11.06       294.91     B         7   \n",
       "\n",
       "        employmentTitle  employmentLength  homeOwnership  ...  n5_outliers  \\\n",
       "0                161280               2.0              2  ...          正常值   \n",
       "1                 89538               5.0              0  ...          正常值   \n",
       "2                159367               8.0              0  ...          正常值   \n",
       "3                 59830               9.0              0  ...          正常值   \n",
       "4                 85242               1.0              1  ...          正常值   \n",
       "...                 ...               ...            ...  ...          ...   \n",
       "612737           142989               7.0              0  ...          正常值   \n",
       "612738           125173               7.0              1  ...          正常值   \n",
       "612739           119990              10.0              1  ...          正常值   \n",
       "612740            38409              10.0              0  ...          正常值   \n",
       "612741            22980               5.0              0  ...          正常值   \n",
       "\n",
       "        n6_outliers n7_outliers  n8_outliers  n9_outliers  n10_outliers  \\\n",
       "0               正常值         正常值          正常值          正常值           正常值   \n",
       "1               正常值         正常值          正常值          正常值           正常值   \n",
       "2               正常值         正常值          正常值          正常值           正常值   \n",
       "3               正常值         正常值          正常值          正常值           正常值   \n",
       "4               正常值         正常值          正常值          正常值           正常值   \n",
       "...             ...         ...          ...          ...           ...   \n",
       "612737          正常值         正常值          正常值          正常值           正常值   \n",
       "612738          正常值         正常值          正常值          正常值           正常值   \n",
       "612739          正常值         正常值          正常值          正常值           正常值   \n",
       "612740          正常值         正常值          正常值          正常值           正常值   \n",
       "612741          正常值         正常值          正常值          正常值           正常值   \n",
       "\n",
       "        n11_outliers  n12_outliers  n13_outliers  n14_outliers  \n",
       "0                正常值           正常值           正常值           正常值  \n",
       "1                正常值           正常值           正常值           正常值  \n",
       "2                正常值           正常值           正常值           正常值  \n",
       "3                正常值           正常值           正常值           正常值  \n",
       "4                正常值           正常值           正常值           正常值  \n",
       "...              ...           ...           ...           ...  \n",
       "612737           正常值           正常值           正常值           正常值  \n",
       "612738           正常值           正常值           正常值           正常值  \n",
       "612739           正常值           正常值           正常值           正常值  \n",
       "612740           正常值           正常值           正常值           正常值  \n",
       "612741           正常值           正常值           正常值           正常值  \n",
       "\n",
       "[612742 rows x 89 columns]"
      ]
     },
     "execution_count": 72,
     "metadata": {},
     "output_type": "execute_result"
    }
   ],
   "source": [
    "data_train"
   ]
  }
 ],
 "metadata": {
  "kernelspec": {
   "display_name": "Python 3",
   "language": "python",
   "name": "python3"
  },
  "language_info": {
   "codemirror_mode": {
    "name": "ipython",
    "version": 3
   },
   "file_extension": ".py",
   "mimetype": "text/x-python",
   "name": "python",
   "nbconvert_exporter": "python",
   "pygments_lexer": "ipython3",
   "version": "3.8.8"
  },
  "toc": {
   "base_numbering": 1,
   "nav_menu": {},
   "number_sections": true,
   "sideBar": true,
   "skip_h1_title": false,
   "title_cell": "Table of Contents",
   "title_sidebar": "Contents",
   "toc_cell": false,
   "toc_position": {},
   "toc_section_display": true,
   "toc_window_display": false
  },
  "varInspector": {
   "cols": {
    "lenName": 16,
    "lenType": 16,
    "lenVar": 40
   },
   "kernels_config": {
    "python": {
     "delete_cmd_postfix": "",
     "delete_cmd_prefix": "del ",
     "library": "var_list.py",
     "varRefreshCmd": "print(var_dic_list())"
    },
    "r": {
     "delete_cmd_postfix": ") ",
     "delete_cmd_prefix": "rm(",
     "library": "var_list.r",
     "varRefreshCmd": "cat(var_dic_list()) "
    }
   },
   "types_to_exclude": [
    "module",
    "function",
    "builtin_function_or_method",
    "instance",
    "_Feature"
   ],
   "window_display": false
  }
 },
 "nbformat": 4,
 "nbformat_minor": 5
}
